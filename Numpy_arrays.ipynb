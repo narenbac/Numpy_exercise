{
 "cells": [
  {
   "cell_type": "code",
   "execution_count": 1,
   "metadata": {},
   "outputs": [
    {
     "data": {
      "text/plain": [
       "'1.16.2'"
      ]
     },
     "execution_count": 1,
     "metadata": {},
     "output_type": "execute_result"
    }
   ],
   "source": [
    "#1. Write a NumPy program to print the NumPy version in your system.\n",
    "\n",
    "import numpy as np\n",
    "np.__version__"
   ]
  },
  {
   "cell_type": "code",
   "execution_count": null,
   "metadata": {},
   "outputs": [],
   "source": [
    "#2. Write a NumPy program to convert a list of numeric value into a one-dimensional NumPy array.\n",
    "\n",
    "a=[12.22,3.28,55,44]\n",
    "np.array(a)"
   ]
  },
  {
   "cell_type": "code",
   "execution_count": null,
   "metadata": {},
   "outputs": [],
   "source": [
    "#3.Write a NumPy program to create a 3x3 matrix with values ranging from 2 to 10.\n",
    "\n",
    "np.matrix(np.arange(2,11).reshape(3,3))"
   ]
  },
  {
   "cell_type": "code",
   "execution_count": null,
   "metadata": {},
   "outputs": [],
   "source": [
    "#4. Write a NumPy program to create a null vector of size 10 and update sixth value to 11.\n",
    "\n",
    "a=np.zeros(10)\n",
    "a[6]=11\n",
    "a"
   ]
  },
  {
   "cell_type": "code",
   "execution_count": null,
   "metadata": {},
   "outputs": [],
   "source": [
    "#5. Write a NumPy program to create a array with values ranging from 12 to 38.\n",
    "\n",
    "np.arange(12,38)"
   ]
  },
  {
   "cell_type": "code",
   "execution_count": null,
   "metadata": {},
   "outputs": [],
   "source": [
    "#6. Write a NumPy program to reverse an array (first element becomes last).\n",
    "\n",
    "a=np.arange(12,38)\n",
    "a[::-1]"
   ]
  },
  {
   "cell_type": "code",
   "execution_count": null,
   "metadata": {},
   "outputs": [],
   "source": [
    "#7. Write a NumPy program to an array converted to a float type.\n",
    "\n",
    "a=np.array([1,2,3,4])\n",
    "a\n",
    "np.asfarray(a)"
   ]
  },
  {
   "cell_type": "code",
   "execution_count": null,
   "metadata": {},
   "outputs": [],
   "source": [
    "#8. Write a NumPy program to create a 2d array with 1 on the border and 0 inside.\n",
    "\n",
    "a=np.array([[1,2,3,4],[5,6,7,8],[9,10,11,12],[13,14,15,16]])\n",
    "a[::3]=a[:,::3]=1\n",
    "a[1:-1,1:-1]=0\n",
    "a"
   ]
  },
  {
   "cell_type": "code",
   "execution_count": 3,
   "metadata": {},
   "outputs": [
    {
     "data": {
      "text/plain": [
       "array([[ 0,  0,  0,  0,  0,  0],\n",
       "       [ 0,  1,  2,  3,  4,  0],\n",
       "       [ 0,  5,  6,  7,  8,  0],\n",
       "       [ 0,  9, 10, 11, 12,  0],\n",
       "       [ 0, 13, 14, 15, 16,  0],\n",
       "       [ 0,  0,  0,  0,  0,  0]])"
      ]
     },
     "execution_count": 3,
     "metadata": {},
     "output_type": "execute_result"
    }
   ],
   "source": [
    "#9. Write a NumPy program to add a border (filled with 0's) around an existing array.\n",
    "arr=np.array([[1,2,3,4],[5,6,7,8],[9,10,11,12],[13,14,15,16]])\n",
    "# x=[[0,0,0,0]]\n",
    "# y=[[0],[0],[0],[0],[0],[0]]\n",
    "# arr=np.vstack((arr,x))\n",
    "# arr=np.vstack((x,arr))\n",
    "# arr\n",
    "# arr=np.hstack((y,arr))\n",
    "# arr=np.hstack((arr,y))\n",
    "# arr\n",
    "np.pad(arr,1,'constant')"
   ]
  },
  {
   "cell_type": "code",
   "execution_count": 4,
   "metadata": {},
   "outputs": [
    {
     "data": {
      "text/plain": [
       "array([[0, 1, 0, 1, 0, 1, 0, 1],\n",
       "       [1, 0, 1, 0, 1, 0, 1, 0],\n",
       "       [0, 1, 0, 1, 0, 1, 0, 1],\n",
       "       [1, 0, 1, 0, 1, 0, 1, 0],\n",
       "       [0, 1, 0, 1, 0, 1, 0, 1],\n",
       "       [1, 0, 1, 0, 1, 0, 1, 0],\n",
       "       [0, 1, 0, 1, 0, 1, 0, 1],\n",
       "       [1, 0, 1, 0, 1, 0, 1, 0]])"
      ]
     },
     "execution_count": 4,
     "metadata": {},
     "output_type": "execute_result"
    }
   ],
   "source": [
    "#10. Write a NumPy program to create a 8x8 matrix and fill it with a checkerboard pattern.\n",
    "arr=np.arange(64).reshape(8,8)\n",
    "arr[::2,::2]=arr[1::2,1::2]=0\n",
    "arr[1::2,::2]=arr[::2,1::2]=1\n",
    "arr"
   ]
  },
  {
   "cell_type": "code",
   "execution_count": null,
   "metadata": {},
   "outputs": [],
   "source": [
    "#11. Write a NumPy program to convert a list and tuple into arrays.\n",
    "l=[1,2,3,4,5,6]\n",
    "t=((8,6,5),(3,6,3))\n",
    "\n",
    "a=np.asarray(l)\n",
    "print(a)\n",
    "b=np.asarray(t)\n",
    "print(b)"
   ]
  },
  {
   "cell_type": "code",
   "execution_count": null,
   "metadata": {},
   "outputs": [],
   "source": [
    "#12. Write a NumPy program to append values to the end of an array.\n",
    "\n",
    "a=np.array([10,20,30,40])\n",
    "np.append(a,[[50,60,70],[80,90,100]])\n"
   ]
  },
  {
   "cell_type": "code",
   "execution_count": null,
   "metadata": {},
   "outputs": [],
   "source": [
    "#13. Write a NumPy program to create an empty and a full array.\n",
    "\n",
    "print(np.empty((3,4)))\n",
    "print(np.full((3,3),6))"
   ]
  },
  {
   "cell_type": "code",
   "execution_count": null,
   "metadata": {},
   "outputs": [],
   "source": [
    "#14. Write a NumPy program to convert the values of Centigrade degrees into Fahrenheit degrees.\n",
    "# Centigrade values are stored into a NumPy array.\n",
    "\n",
    "c=np.array([0,25,50,75,100])\n",
    "f=c*9/5+32\n",
    "print(f)\n",
    "c2=(f-32)*5/9\n",
    "print(c2)"
   ]
  },
  {
   "cell_type": "code",
   "execution_count": null,
   "metadata": {},
   "outputs": [],
   "source": [
    "#15. Write a NumPy program to find the real and imaginary parts of an array of complex numbers.\n",
    "\n",
    "a=np.array([2,3+0j,9j,2+5j,np.nan,np.inf])\n",
    "print(a)\n",
    "print(a.real)\n",
    "print(a.imag)"
   ]
  },
  {
   "cell_type": "code",
   "execution_count": null,
   "metadata": {},
   "outputs": [],
   "source": [
    "#16. Write a NumPy program to find the number of elements of an array, length of one array element in bytes \n",
    "# and total bytes consumed by the elements.\n",
    "\n",
    "a=np.array([2,3+0j,9j,2+5j,np.nan,np.inf])\n",
    "print(a.size)\n",
    "print(a.itemsize)\n",
    "print(a.nbytes)"
   ]
  },
  {
   "cell_type": "code",
   "execution_count": null,
   "metadata": {},
   "outputs": [],
   "source": [
    "#17. Write a NumPy program to test whether each element of a 1-D array is also present in a second array.\n",
    "\n",
    "a=np.array([1,2,3,4,5,6])\n",
    "b=np.array([1,2,3,4])\n",
    "# [True if i in b else False for i in a]\n",
    "np.in1d(a,b)"
   ]
  },
  {
   "cell_type": "code",
   "execution_count": null,
   "metadata": {},
   "outputs": [],
   "source": [
    "#18. Write a NumPy program to find common values between two arrays.\n",
    "\n",
    "a=np.array([1,2,3,4,5,6])\n",
    "b=np.array([1,2,3,4])\n",
    "np.intersect1d(a,b)"
   ]
  },
  {
   "cell_type": "code",
   "execution_count": null,
   "metadata": {},
   "outputs": [],
   "source": [
    "#19. Write a NumPy program to get the unique elements of an array.\n",
    "\n",
    "a=np.array([10,20,30,30,10,20,20,30,10])\n",
    "print(np.unique(a))\n",
    "b=np.array([[1,2],[1,3]])\n",
    "print(np.unique(b))"
   ]
  },
  {
   "cell_type": "code",
   "execution_count": null,
   "metadata": {},
   "outputs": [],
   "source": [
    "#20. Write a NumPy program to find the set difference of two arrays. The set difference will return the sorted, \n",
    "# unique values in array1 that are not in array2.\n",
    "\n",
    "a=np.array([0,10,20,40,60,80])\n",
    "b=np.array([10,30,40,70,90])\n",
    "np.setdiff1d(a,b)"
   ]
  },
  {
   "cell_type": "code",
   "execution_count": null,
   "metadata": {},
   "outputs": [],
   "source": [
    "#21. Write a NumPy program to find the set exclusive-or of two arrays. Set exclusive-or will return the sorted, \n",
    "# unique values that are in only one (not both) of the input arrays.\n",
    "\n",
    "a=np.array([0,10,20,40,60,80])\n",
    "b=np.array([10,30,40,70,90])\n",
    "np.setxor1d(a,b)"
   ]
  },
  {
   "cell_type": "code",
   "execution_count": null,
   "metadata": {},
   "outputs": [],
   "source": [
    "#22. Write a NumPy program to find the union of two arrays. Union will return the unique, \n",
    "# sorted array of values that are in either of the two input arrays.\n",
    "\n",
    "a=np.array([0,10,20,40,60,80])\n",
    "b=np.array([10,30,40,70,90])\n",
    "np.union1d(a,b)"
   ]
  },
  {
   "cell_type": "code",
   "execution_count": null,
   "metadata": {},
   "outputs": [],
   "source": [
    "#23. Write a NumPy program to test if all elements in an array evaluate to True.\n",
    "\n",
    "a=np.array([0,10,20,40,60,80])\n",
    "b=np.array([10,30,40,70,90])\n",
    "c=np.array([np.nan,30,40,70,90])\n",
    "d=np.array([False,30,40,70,90])\n",
    "\n",
    "\n",
    "print(all(a))\n",
    "print(all(b))\n",
    "print(all(c))\n",
    "print(all(d))"
   ]
  },
  {
   "cell_type": "code",
   "execution_count": null,
   "metadata": {},
   "outputs": [],
   "source": [
    "#24. Write a NumPy program to test whether any array element along a given axis evaluates to True.\n",
    "\n",
    "a=np.array([[0,10,20],[0,np.nan,80],[False,0,False]])\n",
    "print(a.any(axis=0))\n",
    "print(a.any(axis=1))"
   ]
  },
  {
   "cell_type": "code",
   "execution_count": null,
   "metadata": {},
   "outputs": [],
   "source": [
    "#25. Write a NumPy program to construct an array by repeating.\n",
    "\n",
    "a=np.array([1,2,3,4])\n",
    "np.tile(a,3)"
   ]
  },
  {
   "cell_type": "code",
   "execution_count": null,
   "metadata": {},
   "outputs": [],
   "source": [
    "#26. Write a NumPy program to repeat elements of an array.\n",
    "\n",
    "a=np.array([1,2,3,4])\n",
    "np.repeat(a,3)"
   ]
  },
  {
   "cell_type": "code",
   "execution_count": null,
   "metadata": {},
   "outputs": [],
   "source": [
    "#27. Write a NumPy program to find the indices of the maximum and minimum values along the given axis of an array.\n",
    "\n",
    "a=np.array([[8,6,3],[4,5,6],[7,4,9]])\n",
    "print(a)\n",
    "print(np.max(a,axis=0))\n",
    "print(np.argmax(a,axis=0))\n",
    "print(np.max(a,axis=1))\n",
    "print(np.argmax(a,axis=1))"
   ]
  },
  {
   "cell_type": "code",
   "execution_count": null,
   "metadata": {},
   "outputs": [],
   "source": [
    "#28. Write a NumPy program compare two arrays using numpy.\n",
    "\n",
    "a=np.array([[1,2],[2,3]])\n",
    "b=np.array([[2,3],[1,4]])\n",
    "print(a>=b)\n",
    "np.greater_equal(a,b)"
   ]
  },
  {
   "cell_type": "code",
   "execution_count": null,
   "metadata": {},
   "outputs": [],
   "source": [
    "#29. Write a NumPy program to sort an along the first, last axis of an array.\n",
    "\n",
    "b=np.array([[2,3,4],[1,2,4],[3,4,2]])\n",
    "print(b)\n",
    "print(np.sort(b,axis=0))\n",
    "print(np.sort(b,axis=1))\n"
   ]
  },
  {
   "cell_type": "code",
   "execution_count": null,
   "metadata": {},
   "outputs": [],
   "source": [
    "#30. Write a NumPy program to sort pairs of first name and last name return their indices. \n",
    "# (first by last name, then by first name).\n",
    "\n",
    "\n",
    "first_names = ('Betsey', 'Shelley', 'Lanell', 'Genesis', 'Margery')\n",
    "last_names = ('Battle', 'Brien', 'Plotner', 'Stahl', 'Woolum')\n",
    "np.lexsort((first_names,last_names))   # (first by last name, then by first name)\n"
   ]
  },
  {
   "cell_type": "code",
   "execution_count": null,
   "metadata": {},
   "outputs": [],
   "source": [
    "#31. Write a NumPy program to get the values and indices of the elements that are bigger than 10 in a given array.\n",
    "\n",
    "a=np.array([[5,15,30,8],[11,10,4,25]])\n",
    "print(a[a>10])\n",
    "np.nonzero(a>10)"
   ]
  },
  {
   "cell_type": "code",
   "execution_count": null,
   "metadata": {},
   "outputs": [],
   "source": [
    "#32. Write a NumPy program to save a NumPy array to a text file.\n",
    "\n",
    "a=np.array([[5,15,30,8],[11,10,4,25]])\n",
    "np.savetxt('temp1',a)"
   ]
  },
  {
   "cell_type": "code",
   "execution_count": null,
   "metadata": {},
   "outputs": [],
   "source": [
    "#33. Write a NumPy program to find the memory size of a NumPy array.\n",
    "\n",
    "a=np.array([[5,15,30,8],[11,10,4,25]])\n",
    "a.nbytes"
   ]
  },
  {
   "cell_type": "code",
   "execution_count": null,
   "metadata": {},
   "outputs": [],
   "source": [
    "#34. Write a NumPy program to create an array of ones and an array of zeros.\n",
    "\n",
    "print(np.ones((3,3)))\n",
    "print(np.zeros((3,3),dtype=np.int))"
   ]
  },
  {
   "cell_type": "code",
   "execution_count": null,
   "metadata": {},
   "outputs": [],
   "source": [
    "#35. Write a NumPy program to change the dimension of an array.\n",
    "\n",
    "a=np.arange(9)\n",
    "print(a)\n",
    "print(a.ndim)\n",
    "print(a.shape)\n",
    "a.shape=(3,3)\n",
    "print(a)\n",
    "print(a.ndim)"
   ]
  },
  {
   "cell_type": "code",
   "execution_count": null,
   "metadata": {},
   "outputs": [],
   "source": [
    "#36. Write a NumPy program to create a contiguous flattened array.\n",
    "\n",
    "a=np.array([[10,20,30],[20,40,50]])\n",
    "a.ravel()"
   ]
  },
  {
   "cell_type": "code",
   "execution_count": null,
   "metadata": {},
   "outputs": [],
   "source": [
    "#37. Write a NumPy program to create a 2-dimensional array of size 2 x 3 (composed of 4-byte integer elements), \n",
    "# also print the shape, type and data type of the array.\n",
    "\n",
    "a=np.array([[1,2,3],[4,5,6]],dtype='i4')\n",
    "print(a.shape)\n",
    "print(type(a))\n",
    "print(a.dtype)"
   ]
  },
  {
   "cell_type": "code",
   "execution_count": null,
   "metadata": {},
   "outputs": [],
   "source": [
    "#38. Write a NumPy program to create a new shape to an array without changing its data.\n",
    "\n",
    "a=np.arange(6)\n",
    "print(a.reshape(2,3))\n",
    "print(a.reshape(3,2))\n",
    "a"
   ]
  },
  {
   "cell_type": "code",
   "execution_count": null,
   "metadata": {},
   "outputs": [],
   "source": [
    "#39. Write a NumPy program to change the data type of an array.\n",
    "\n",
    "a=np.array([[1,2,3],[4,5,6]],dtype='i4')\n",
    "b=a.astype(float)\n",
    "print(b)\n",
    "print(b.dtype)"
   ]
  },
  {
   "cell_type": "code",
   "execution_count": null,
   "metadata": {},
   "outputs": [],
   "source": [
    "#40. Write a NumPy program to create a new array of 3*5, filled with 2.\n",
    "\n",
    "np.repeat(2,15).reshape(3,5)\n",
    "# np.full((3,5),2)"
   ]
  },
  {
   "cell_type": "code",
   "execution_count": null,
   "metadata": {},
   "outputs": [],
   "source": [
    "#41. Write a NumPy program to create an array of 10's with the same shape and type of an given array.\n",
    "\n",
    "a=np.arange(4,dtype=np.int64)\n",
    "np.full_like(a,10)"
   ]
  },
  {
   "cell_type": "code",
   "execution_count": null,
   "metadata": {},
   "outputs": [],
   "source": [
    "#42. Write a NumPy program to create a 3-D array with ones on a diagonal and zeros elsewhere.\n",
    "\n",
    "np.eye(3)"
   ]
  },
  {
   "cell_type": "code",
   "execution_count": 5,
   "metadata": {},
   "outputs": [
    {
     "data": {
      "text/plain": [
       "array([[4, 0, 0, 0],\n",
       "       [0, 5, 0, 0],\n",
       "       [0, 0, 6, 0],\n",
       "       [0, 0, 0, 8]])"
      ]
     },
     "execution_count": 5,
     "metadata": {},
     "output_type": "execute_result"
    }
   ],
   "source": [
    "#43. Write a NumPy program to create a 2-D array whose diagonal equals [4, 5, 6, 8] and 0's elsewhere.\n",
    "\n",
    "np.diagflat([4,5,6,8])"
   ]
  },
  {
   "cell_type": "code",
   "execution_count": null,
   "metadata": {},
   "outputs": [],
   "source": [
    "#44. Write a NumPy program to create a 1-D array going from 0 to 50 and an array from 10 to 50.\n",
    "\n",
    "print(np.arange(50))\n",
    "print(np.arange(10,50))"
   ]
  },
  {
   "cell_type": "code",
   "execution_count": null,
   "metadata": {},
   "outputs": [],
   "source": [
    "#45. Write a NumPy program to Create a 1-D array of 30 evenly spaced elements between 2.5. and 6.5, inclusive.\n",
    "\n",
    "np.linspace(2.5,6.5,30)"
   ]
  },
  {
   "cell_type": "code",
   "execution_count": null,
   "metadata": {},
   "outputs": [],
   "source": [
    "#46. Write a NumPy program to to create a 1-D array of 20 element spaced evenly on a log scale between 2. and 5., exclusive.\n",
    "\n",
    "np.logspace(2.0,5.0,20,endpoint=False)"
   ]
  },
  {
   "cell_type": "code",
   "execution_count": 6,
   "metadata": {},
   "outputs": [
    {
     "data": {
      "text/plain": [
       "array([[0., 0., 0.],\n",
       "       [1., 0., 0.],\n",
       "       [1., 1., 0.],\n",
       "       [1., 1., 1.]])"
      ]
     },
     "execution_count": 6,
     "metadata": {},
     "output_type": "execute_result"
    }
   ],
   "source": [
    "#47. Write a NumPy program to create an array which looks like below array.\n",
    "\n",
    "np.tri(4,3,-1)"
   ]
  },
  {
   "cell_type": "code",
   "execution_count": 12,
   "metadata": {},
   "outputs": [
    {
     "data": {
      "text/plain": [
       "array([[0, 3, 4],\n",
       "       [0, 0, 7],\n",
       "       [0, 0, 0],\n",
       "       [0, 0, 0]])"
      ]
     },
     "execution_count": 12,
     "metadata": {},
     "output_type": "execute_result"
    }
   ],
   "source": [
    "#48. Write a NumPy program to create an array which looks like below array.\n",
    "\n",
    "a=np.arange(2,14).reshape(4,3)\n",
    "np.triu(a,1)"
   ]
  },
  {
   "cell_type": "code",
   "execution_count": null,
   "metadata": {},
   "outputs": [],
   "source": [
    "#49. Write a NumPy program to collapse a 3-D array into one dimension array.\n",
    "\n",
    "a=np.array([[[10,20,30],[20,40,50]]])\n",
    "a.flatten()"
   ]
  },
  {
   "cell_type": "code",
   "execution_count": null,
   "metadata": {},
   "outputs": [],
   "source": [
    "#50. Write a NumPy program to find the 4th element of a specified array.\n",
    "\n",
    "a=np.array([[2,4,6],[6,8,10]])\n",
    "a.flat[3]"
   ]
  },
  {
   "cell_type": "code",
   "execution_count": null,
   "metadata": {},
   "outputs": [],
   "source": [
    "#51. Write a NumPy program to interchange two axes of an array.\n",
    "\n",
    "a=np.array([[1,2,3]])\n",
    "np.swapaxes(a,0,1)"
   ]
  },
  {
   "cell_type": "code",
   "execution_count": null,
   "metadata": {},
   "outputs": [],
   "source": [
    "#52. Write a NumPy program to move axes of an array to new positions. Other axes remain in their original order.\n",
    "\n",
    "a=np.arange(24).reshape(2,3,4)\n",
    "print(a)\n",
    "b=np.moveaxis(a,0,-1)\n",
    "print(b)\n",
    "print(b.shape)"
   ]
  },
  {
   "cell_type": "code",
   "execution_count": null,
   "metadata": {},
   "outputs": [],
   "source": [
    "#53. Write a NumPy program to move the specified axis backwards, until it lies in a given position.\n",
    "\n",
    "a=np.ones((2,3,4,5))\n",
    "np.rollaxis(a,3,1).shape"
   ]
  },
  {
   "cell_type": "code",
   "execution_count": null,
   "metadata": {},
   "outputs": [],
   "source": [
    "#54. Write a NumPy program to convert specified inputs to arrays with at least one dimension.\n",
    "\n",
    "a=12.0\n",
    "print(np.atleast_1d(a))\n",
    "a=np.arange(6).reshape(2,3)\n",
    "print(np.atleast_1d(a))\n",
    "print(np.atleast_1d(1,[3,4]))"
   ]
  },
  {
   "cell_type": "code",
   "execution_count": null,
   "metadata": {},
   "outputs": [],
   "source": [
    "#55. Write a NumPy program to view inputs as arrays with at least two dimensions, three dimensions.\n",
    "\n",
    "print(np.atleast_2d(15))\n",
    "print(np.atleast_2d(np.arange(4.0).reshape(2,2)))\n",
    "print(np.atleast_3d(12))\n",
    "print(np.atleast_3d(np.arange(3)))\n"
   ]
  },
  {
   "cell_type": "code",
   "execution_count": null,
   "metadata": {},
   "outputs": [],
   "source": [
    "#56. Write a NumPy program to insert a new axis within a 2-D array.\n",
    "\n",
    "a=np.arange(6).reshape(2,3)\n",
    "np.expand_dims(a,axis=1).shape"
   ]
  },
  {
   "cell_type": "code",
   "execution_count": null,
   "metadata": {},
   "outputs": [],
   "source": [
    "#57. Write a NumPy program to remove single-dimensional entries from a specified shape.\n",
    "\n",
    "a=np.arange(12).reshape(4,1,3)\n",
    "np.squeeze(a)"
   ]
  },
  {
   "cell_type": "code",
   "execution_count": null,
   "metadata": {},
   "outputs": [],
   "source": [
    "#58. Write a NumPy program to concatenate two 2-dimensional arrays.\n",
    "\n",
    "a=np.array([[0, 1, 3], [5, 7, 9]])\n",
    "b=np.array([[0, 2, 4], [6, 8, 10]])\n",
    "np.concatenate((a,b),axis=1)"
   ]
  },
  {
   "cell_type": "code",
   "execution_count": null,
   "metadata": {},
   "outputs": [],
   "source": [
    "#59. Write a NumPy program to convert 1-D arrays as columns into a 2-D array.\n",
    "\n",
    "a=np.array([10,20,30])\n",
    "b=np.array([40,50,60])\n",
    "np.column_stack((a,b))"
   ]
  },
  {
   "cell_type": "code",
   "execution_count": null,
   "metadata": {},
   "outputs": [],
   "source": [
    "#60. Write a NumPy program to convert (in sequence depth wise (along third axis)) two 1-D arrays into a 2-D array.\n",
    "\n",
    "arr1=np.array([[1,2,3]])\n",
    "arr2=np.array([[4,5,6]])            \n",
    "arr=np.dstack((arr1,arr2))\n",
    "arr"
   ]
  },
  {
   "cell_type": "code",
   "execution_count": 22,
   "metadata": {},
   "outputs": [
    {
     "data": {
      "text/plain": [
       "[array([1, 2]), array([3, 4, 5, 6]), array([ 7,  8,  9, 10, 11, 12, 13, 14])]"
      ]
     },
     "execution_count": 22,
     "metadata": {},
     "output_type": "execute_result"
    }
   ],
   "source": [
    "#61. Write a NumPy program to split an array of 14 elements into 3 arrays, each of which has 2, 4, and 8 elements \n",
    "# in the original order.\n",
    "\n",
    "arr=np.array([1,  2,  3,  4,  5,  6,  7,  8,  9, 10, 11, 12, 13, 14])\n",
    "np.split(arr,[2,6])"
   ]
  },
  {
   "cell_type": "code",
   "execution_count": 27,
   "metadata": {},
   "outputs": [
    {
     "data": {
      "text/plain": [
       "[array([[ 0,  1],\n",
       "        [ 4,  5],\n",
       "        [ 8,  9],\n",
       "        [12, 13]]), array([[ 2,  3],\n",
       "        [ 6,  7],\n",
       "        [10, 11],\n",
       "        [14, 15]]), array([], shape=(4, 0), dtype=int32)]"
      ]
     },
     "execution_count": 27,
     "metadata": {},
     "output_type": "execute_result"
    }
   ],
   "source": [
    "#62. Write a NumPy program to split of an array of shape 4x4 it into two arrays along the second axis.\n",
    "\n",
    "a = np.arange(16).reshape(4,4)\n",
    "np.hsplit(a,[2,4])"
   ]
  },
  {
   "cell_type": "code",
   "execution_count": 42,
   "metadata": {},
   "outputs": [
    {
     "data": {
      "text/plain": [
       "5"
      ]
     },
     "execution_count": 42,
     "metadata": {},
     "output_type": "execute_result"
    }
   ],
   "source": [
    "#63. Write a NumPy program to get the number of nonzero elements in an array.\n",
    "\n",
    "a = np.array([[0,10,20],[20,30,40]])\n",
    "np.count_nonzero(a)"
   ]
  },
  {
   "cell_type": "code",
   "execution_count": 46,
   "metadata": {},
   "outputs": [
    {
     "data": {
      "text/plain": [
       "array([[0., 1., 2., 3., 4.],\n",
       "       [0., 1., 2., 3., 4.],\n",
       "       [0., 1., 2., 3., 4.],\n",
       "       [0., 1., 2., 3., 4.],\n",
       "       [0., 1., 2., 3., 4.]])"
      ]
     },
     "execution_count": 46,
     "metadata": {},
     "output_type": "execute_result"
    }
   ],
   "source": [
    "#64. Write a NumPy program to create a 5x5 matrix with row values ranging from 0 to 4.\n",
    "\n",
    "a = np.arange(5)\n",
    "# np.tile(a,5).reshape(5,5)\n",
    "\n",
    "np.zeros((5,5))+a"
   ]
  },
  {
   "cell_type": "code",
   "execution_count": 51,
   "metadata": {},
   "outputs": [
    {
     "name": "stdout",
     "output_type": "stream",
     "text": [
      "True\n",
      "False\n",
      "True\n",
      "False\n",
      "True\n"
     ]
    }
   ],
   "source": [
    "#65. Write a NumPy program to test if specified values are present in an array.\n",
    "\n",
    "x =np.array([[ 1.12, 2., 3.45],[ 2.33, 5.12, 6. ]])\n",
    "print(2 in x)\n",
    "print(0 in x)\n",
    "print(6 in x)\n",
    "print(2.3 in x)\n",
    "print(5.12 in x)"
   ]
  },
  {
   "cell_type": "code",
   "execution_count": 63,
   "metadata": {},
   "outputs": [
    {
     "data": {
      "text/plain": [
       "array([0.09090909, 0.18181818, 0.27272727, 0.36363636, 0.45454545,\n",
       "       0.54545455, 0.63636364, 0.72727273, 0.81818182, 0.90909091])"
      ]
     },
     "execution_count": 63,
     "metadata": {},
     "output_type": "execute_result"
    }
   ],
   "source": [
    "#66. Write a NumPy program to create a vector of size 10 with values ranging from 0 to 1, both excluded.\n",
    "\n",
    "np.linspace(0,1,12)[1:-1]"
   ]
  },
  {
   "cell_type": "code",
   "execution_count": 70,
   "metadata": {},
   "outputs": [
    {
     "ename": "ValueError",
     "evalue": "assignment destination is read-only",
     "output_type": "error",
     "traceback": [
      "\u001b[1;31m---------------------------------------------------------------------------\u001b[0m",
      "\u001b[1;31mValueError\u001b[0m                                Traceback (most recent call last)",
      "\u001b[1;32m<ipython-input-70-07ef8d9020f5>\u001b[0m in \u001b[0;36m<module>\u001b[1;34m\u001b[0m\n\u001b[0;32m      3\u001b[0m \u001b[0ma\u001b[0m \u001b[1;33m=\u001b[0m \u001b[0mnp\u001b[0m\u001b[1;33m.\u001b[0m\u001b[0mzeros\u001b[0m\u001b[1;33m(\u001b[0m\u001b[1;36m6\u001b[0m\u001b[1;33m)\u001b[0m\u001b[1;33m\u001b[0m\u001b[1;33m\u001b[0m\u001b[0m\n\u001b[0;32m      4\u001b[0m \u001b[0ma\u001b[0m\u001b[1;33m.\u001b[0m\u001b[0mflags\u001b[0m\u001b[1;33m.\u001b[0m\u001b[0mwriteable\u001b[0m\u001b[1;33m=\u001b[0m\u001b[1;32mFalse\u001b[0m\u001b[1;33m\u001b[0m\u001b[1;33m\u001b[0m\u001b[0m\n\u001b[1;32m----> 5\u001b[1;33m \u001b[0ma\u001b[0m\u001b[1;33m[\u001b[0m\u001b[1;36m1\u001b[0m\u001b[1;33m]\u001b[0m\u001b[1;33m=\u001b[0m\u001b[1;36m5\u001b[0m\u001b[1;33m\u001b[0m\u001b[1;33m\u001b[0m\u001b[0m\n\u001b[0m",
      "\u001b[1;31mValueError\u001b[0m: assignment destination is read-only"
     ]
    }
   ],
   "source": [
    "#67. Write a NumPy program to make an array immutable (read-only).\n",
    "\n",
    "a = np.zeros(6)\n",
    "a.flags.writeable=False\n",
    "a[1]=5"
   ]
  },
  {
   "cell_type": "code",
   "execution_count": 78,
   "metadata": {},
   "outputs": [
    {
     "data": {
      "text/plain": [
       "2318"
      ]
     },
     "execution_count": 78,
     "metadata": {},
     "output_type": "execute_result"
    }
   ],
   "source": [
    "#68. Write a NumPy program (using numpy) to sum of all the multiples of 3 or 5 below 100.\n",
    "\n",
    "a = np.arange(1,100)\n",
    "sum(a[(a%3==0) | (a%5==0)])"
   ]
  },
  {
   "cell_type": "code",
   "execution_count": 86,
   "metadata": {},
   "outputs": [
    {
     "data": {
      "text/plain": [
       "array([  0.,   1.,   2.,   3.,   4.,   5.,   6.,   7.,   8.,   9.,  10.,\n",
       "        11.,  12.,  13.,  14.,  15.,  16.,  17.,  18.,  19.,  20.,  21.,\n",
       "        22.,  23.,  24.,  25.,  26.,  27.,  28.,  29.,  30.,  31.,  32.,\n",
       "        33.,  34.,  35.,  36.,  37.,  38.,  39.,  40.,  41.,  42.,  43.,\n",
       "        44.,  45.,  46.,  47.,  48.,  49.,  50.,  51.,  52.,  53.,  54.,\n",
       "        55.,  56.,  57.,  58.,  59.,  60.,  61.,  62.,  63.,  64.,  65.,\n",
       "        66.,  67.,  68.,  69.,  70.,  71.,  72.,  73.,  74.,  75.,  76.,\n",
       "        77.,  78.,  79.,  80.,  81.,  82.,  83.,  84.,  85.,  86.,  87.,\n",
       "        88.,  89.,  90.,  91.,  92.,  93.,  94.,  95.,  96.,  97.,  98.,\n",
       "        99., 100., 101., 102., 103., 104., 105., 106., 107., 108., 109.,\n",
       "       110., 111., 112., 113., 114., 115., 116., 117., 118., 119., 120.,\n",
       "       121., 122., 123., 124., 125., 126., 127., 128., 129., 130., 131.,\n",
       "       132., 133., 134., 135., 136., 137., 138., 139., 140., 141., 142.,\n",
       "       143., 144., 145., 146., 147., 148., 149., 150., 151., 152., 153.,\n",
       "       154., 155., 156., 157., 158., 159., 160., 161., 162., 163., 164.,\n",
       "       165., 166., 167., 168., 169., 170., 171., 172., 173., 174., 175.,\n",
       "       176., 177., 178., 179., 180., 181., 182., 183., 184., 185., 186.,\n",
       "       187., 188., 189., 190., 191., 192., 193., 194., 195., 196., 197.,\n",
       "       198., 199., 200., 201., 202., 203., 204., 205., 206., 207., 208.,\n",
       "       209., 210., 211., 212., 213., 214., 215., 216., 217., 218., 219.,\n",
       "       220., 221., 222., 223., 224., 225., 226., 227., 228., 229., 230.,\n",
       "       231., 232., 233., 234., 235., 236., 237., 238., 239., 240., 241.,\n",
       "       242., 243., 244., 245., 246., 247., 248., 249., 250., 251., 252.,\n",
       "       253., 254., 255., 256., 257., 258., 259., 260., 261., 262., 263.,\n",
       "       264., 265., 266., 267., 268., 269., 270., 271., 272., 273., 274.,\n",
       "       275., 276., 277., 278., 279., 280., 281., 282., 283., 284., 285.,\n",
       "       286., 287., 288., 289., 290., 291., 292., 293., 294., 295., 296.,\n",
       "       297., 298., 299., 300., 301., 302., 303., 304., 305., 306., 307.,\n",
       "       308., 309., 310., 311., 312., 313., 314., 315., 316., 317., 318.,\n",
       "       319., 320., 321., 322., 323., 324., 325., 326., 327., 328., 329.,\n",
       "       330., 331., 332., 333., 334., 335., 336., 337., 338., 339., 340.,\n",
       "       341., 342., 343., 344., 345., 346., 347., 348., 349., 350., 351.,\n",
       "       352., 353., 354., 355., 356., 357., 358., 359., 360., 361., 362.,\n",
       "       363., 364., 365., 366., 367., 368., 369., 370., 371., 372., 373.,\n",
       "       374., 375., 376., 377., 378., 379., 380., 381., 382., 383., 384.,\n",
       "       385., 386., 387., 388., 389., 390., 391., 392., 393., 394., 395.,\n",
       "       396., 397., 398., 399., 400., 401., 402., 403., 404., 405., 406.,\n",
       "       407., 408., 409., 410., 411., 412., 413., 414., 415., 416., 417.,\n",
       "       418., 419., 420., 421., 422., 423., 424., 425., 426., 427., 428.,\n",
       "       429., 430., 431., 432., 433., 434., 435., 436., 437., 438., 439.,\n",
       "       440., 441., 442., 443., 444., 445., 446., 447., 448., 449., 450.,\n",
       "       451., 452., 453., 454., 455., 456., 457., 458., 459., 460., 461.,\n",
       "       462., 463., 464., 465., 466., 467., 468., 469., 470., 471., 472.,\n",
       "       473., 474., 475., 476., 477., 478., 479., 480., 481., 482., 483.,\n",
       "       484., 485., 486., 487., 488., 489., 490., 491., 492., 493., 494.,\n",
       "       495., 496., 497., 498., 499., 500., 501., 502., 503., 504., 505.,\n",
       "       506., 507., 508., 509., 510., 511., 512., 513., 514., 515., 516.,\n",
       "       517., 518., 519., 520., 521., 522., 523., 524., 525., 526., 527.,\n",
       "       528., 529., 530., 531., 532., 533., 534., 535., 536., 537., 538.,\n",
       "       539., 540., 541., 542., 543., 544., 545., 546., 547., 548., 549.,\n",
       "       550., 551., 552., 553., 554., 555., 556., 557., 558., 559., 560.,\n",
       "       561., 562., 563., 564., 565., 566., 567., 568., 569., 570., 571.,\n",
       "       572., 573., 574., 575., 576., 577., 578., 579., 580., 581., 582.,\n",
       "       583., 584., 585., 586., 587., 588., 589., 590., 591., 592., 593.,\n",
       "       594., 595., 596., 597., 598., 599., 600., 601., 602., 603., 604.,\n",
       "       605., 606., 607., 608., 609., 610., 611., 612., 613., 614., 615.,\n",
       "       616., 617., 618., 619., 620., 621., 622., 623., 624., 625., 626.,\n",
       "       627., 628., 629., 630., 631., 632., 633., 634., 635., 636., 637.,\n",
       "       638., 639., 640., 641., 642., 643., 644., 645., 646., 647., 648.,\n",
       "       649., 650., 651., 652., 653., 654., 655., 656., 657., 658., 659.,\n",
       "       660., 661., 662., 663., 664., 665., 666., 667., 668., 669., 670.,\n",
       "       671., 672., 673., 674., 675., 676., 677., 678., 679., 680., 681.,\n",
       "       682., 683., 684., 685., 686., 687., 688., 689., 690., 691., 692.,\n",
       "       693., 694., 695., 696., 697., 698., 699., 700., 701., 702., 703.,\n",
       "       704., 705., 706., 707., 708., 709., 710., 711., 712., 713., 714.,\n",
       "       715., 716., 717., 718., 719., 720., 721., 722., 723., 724., 725.,\n",
       "       726., 727., 728., 729., 730., 731., 732., 733., 734., 735., 736.,\n",
       "       737., 738., 739., 740., 741., 742., 743., 744., 745., 746., 747.,\n",
       "       748., 749., 750., 751., 752., 753., 754., 755., 756., 757., 758.,\n",
       "       759., 760., 761., 762., 763., 764., 765., 766., 767., 768., 769.,\n",
       "       770., 771., 772., 773., 774., 775., 776., 777., 778., 779., 780.,\n",
       "       781., 782., 783., 784., 785., 786., 787., 788., 789., 790., 791.,\n",
       "       792., 793., 794., 795., 796., 797., 798., 799., 800., 801., 802.,\n",
       "       803., 804., 805., 806., 807., 808., 809., 810., 811., 812., 813.,\n",
       "       814., 815., 816., 817., 818., 819., 820., 821., 822., 823., 824.,\n",
       "       825., 826., 827., 828., 829., 830., 831., 832., 833., 834., 835.,\n",
       "       836., 837., 838., 839., 840., 841., 842., 843., 844., 845., 846.,\n",
       "       847., 848., 849., 850., 851., 852., 853., 854., 855., 856., 857.,\n",
       "       858., 859., 860., 861., 862., 863., 864., 865., 866., 867., 868.,\n",
       "       869., 870., 871., 872., 873., 874., 875., 876., 877., 878., 879.,\n",
       "       880., 881., 882., 883., 884., 885., 886., 887., 888., 889., 890.,\n",
       "       891., 892., 893., 894., 895., 896., 897., 898., 899., 900., 901.,\n",
       "       902., 903., 904., 905., 906., 907., 908., 909., 910., 911., 912.,\n",
       "       913., 914., 915., 916., 917., 918., 919., 920., 921., 922., 923.,\n",
       "       924., 925., 926., 927., 928., 929., 930., 931., 932., 933., 934.,\n",
       "       935., 936., 937., 938., 939., 940., 941., 942., 943., 944., 945.,\n",
       "       946., 947., 948., 949., 950., 951., 952., 953., 954., 955., 956.,\n",
       "       957., 958., 959., 960., 961., 962., 963., 964., 965., 966., 967.,\n",
       "       968., 969., 970., 971., 972., 973., 974., 975., 976., 977., 978.,\n",
       "       979., 980., 981., 982., 983., 984., 985., 986., 987., 988., 989.,\n",
       "       990., 991., 992., 993., 994., 995., 996., 997., 998., 999.])"
      ]
     },
     "execution_count": 86,
     "metadata": {},
     "output_type": "execute_result"
    }
   ],
   "source": [
    "#69. Write a NumPy program to create an array with 10^3 elements.\n",
    "\n",
    "np.arange(1e3)"
   ]
  },
  {
   "cell_type": "code",
   "execution_count": 106,
   "metadata": {},
   "outputs": [
    {
     "name": "stdout",
     "output_type": "stream",
     "text": [
      "0 1 2 3 4 5 6 7 8 9 10 11 "
     ]
    }
   ],
   "source": [
    "#70. Write a NumPy program to create display every element of an numpy array.\n",
    "\n",
    "a = np.arange(12).reshape(3,4)\n",
    "for i in np.nditer(a):\n",
    "    print(i,end=' ')"
   ]
  },
  {
   "cell_type": "code",
   "execution_count": 113,
   "metadata": {},
   "outputs": [
    {
     "name": "stdout",
     "output_type": "stream",
     "text": [
      "0 4 8 1 5 9 2 6 10 3 7 11 "
     ]
    }
   ],
   "source": [
    "#71. Write a NumPy program to create and display every element of an numpy array in Fortran order.\n",
    "\n",
    "a = np.arange(12).reshape(3,4)\n",
    "for i in np.nditer(a,order='F'):\n",
    "    print(i,end=' ')\n",
    "        "
   ]
  },
  {
   "cell_type": "code",
   "execution_count": 115,
   "metadata": {},
   "outputs": [
    {
     "data": {
      "text/plain": [
       "array([[[1, 1, 1, 1, 1],\n",
       "        [1, 1, 1, 1, 1],\n",
       "        [1, 1, 1, 1, 1],\n",
       "        [1, 1, 1, 1, 1],\n",
       "        [1, 1, 1, 1, 1]],\n",
       "\n",
       "       [[1, 1, 1, 1, 1],\n",
       "        [1, 1, 1, 1, 1],\n",
       "        [1, 1, 1, 1, 1],\n",
       "        [1, 1, 1, 1, 1],\n",
       "        [1, 1, 1, 1, 1]],\n",
       "\n",
       "       [[1, 1, 1, 1, 1],\n",
       "        [1, 1, 1, 1, 1],\n",
       "        [1, 1, 1, 1, 1],\n",
       "        [1, 1, 1, 1, 1],\n",
       "        [1, 1, 1, 1, 1]],\n",
       "\n",
       "       [[1, 1, 1, 1, 1],\n",
       "        [1, 1, 1, 1, 1],\n",
       "        [1, 1, 1, 1, 1],\n",
       "        [1, 1, 1, 1, 1],\n",
       "        [1, 1, 1, 1, 1]],\n",
       "\n",
       "       [[1, 1, 1, 1, 1],\n",
       "        [1, 1, 1, 1, 1],\n",
       "        [1, 1, 1, 1, 1],\n",
       "        [1, 1, 1, 1, 1],\n",
       "        [1, 1, 1, 1, 1]]])"
      ]
     },
     "execution_count": 115,
     "metadata": {},
     "output_type": "execute_result"
    }
   ],
   "source": [
    "#72. Write a NumPy program to create a 5x5x5 cube of 1's.\n",
    "\n",
    "np.ones((5,5,5)).astype(int)"
   ]
  },
  {
   "cell_type": "code",
   "execution_count": 119,
   "metadata": {},
   "outputs": [
    {
     "data": {
      "text/plain": [
       "array([[ 0,  3,  6,  9],\n",
       "       [12, 15, 18, 21],\n",
       "       [24, 27, 30, 33]])"
      ]
     },
     "execution_count": 119,
     "metadata": {},
     "output_type": "execute_result"
    }
   ],
   "source": [
    "#73. Write a NumPy program to create an array of (3, 4) shape, multiply every element value by 3 and display the new array.\n",
    "\n",
    "a = np.arange(12).reshape(3,4)\n",
    "# b=a*3\n",
    "# b\n",
    "\n",
    "for i in np.nditer(a,op_flags=['readwrite']):\n",
    "    i*=3\n",
    "a"
   ]
  },
  {
   "cell_type": "code",
   "execution_count": 129,
   "metadata": {},
   "outputs": [
    {
     "name": "stdout",
     "output_type": "stream",
     "text": [
      "0:0\n",
      "1:1\n",
      "2:2\n",
      "3:3\n",
      "0:4\n",
      "1:5\n",
      "2:6\n",
      "3:7\n"
     ]
    }
   ],
   "source": [
    "#74. Write a NumPy program to combine a one and a two dimensional array together and display their elements.\n",
    "\n",
    "a = np.array([0,1,2,3])\n",
    "b = np.array([[0,1,2,3],[4,5,6,7]])\n",
    "for i,j in np.nditer([a,b]):\n",
    "    print('{}:{}'.format(i,j))\n"
   ]
  },
  {
   "cell_type": "code",
   "execution_count": 11,
   "metadata": {},
   "outputs": [
    {
     "data": {
      "text/plain": [
       "array([(1, 2., b'Newton'), (3, 4., b'Einstein')],\n",
       "      dtype=[('f0', '<i4'), ('f1', '<f4'), ('f2', 'S40')])"
      ]
     },
     "execution_count": 11,
     "metadata": {},
     "output_type": "execute_result"
    }
   ],
   "source": [
    "#75. Write a NumPy program to create an array of zeros and three column types (integer, float, character).\n",
    "\n",
    "a = np.zeros((2),dtype=('i4,f4,a40'))\n",
    "new_data=[(1,2,'Newton'),(3,4,'Einstein')]\n",
    "a[:]=new_data\n",
    "a"
   ]
  },
  {
   "cell_type": "code",
   "execution_count": 36,
   "metadata": {},
   "outputs": [
    {
     "name": "stdout",
     "output_type": "stream",
     "text": [
      "[ 1  8 27]\n"
     ]
    }
   ],
   "source": [
    "#76. Write a NumPy program to create a function cube which cubes all the elements of an array.\n",
    "\n",
    "def cube(a):\n",
    "    it = np.nditer([a,None])\n",
    "    for i, j in it:\n",
    "        j[...]=i*i*i\n",
    "    return it.operands[1]\n",
    "x = np.array([1,2,3])\n",
    "print(cube(x))"
   ]
  },
  {
   "cell_type": "code",
   "execution_count": null,
   "metadata": {},
   "outputs": [],
   "source": [
    "#77. Write a NumPy program to create an array of (3, 4) shape and convert the array elements in smaller chunks.\n",
    "\n"
   ]
  },
  {
   "cell_type": "code",
   "execution_count": null,
   "metadata": {},
   "outputs": [],
   "source": []
  }
 ],
 "metadata": {
  "kernelspec": {
   "display_name": "Python 3",
   "language": "python",
   "name": "python3"
  },
  "language_info": {
   "codemirror_mode": {
    "name": "ipython",
    "version": 3
   },
   "file_extension": ".py",
   "mimetype": "text/x-python",
   "name": "python",
   "nbconvert_exporter": "python",
   "pygments_lexer": "ipython3",
   "version": "3.7.3"
  }
 },
 "nbformat": 4,
 "nbformat_minor": 2
}
